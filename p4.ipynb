{
 "cells": [
  {
   "cell_type": "code",
   "execution_count": 1,
   "metadata": {},
   "outputs": [
    {
     "data": {
      "text/html": [
       "<div>\n",
       "<style scoped>\n",
       "    .dataframe tbody tr th:only-of-type {\n",
       "        vertical-align: middle;\n",
       "    }\n",
       "\n",
       "    .dataframe tbody tr th {\n",
       "        vertical-align: top;\n",
       "    }\n",
       "\n",
       "    .dataframe thead th {\n",
       "        text-align: right;\n",
       "    }\n",
       "</style>\n",
       "<table border=\"1\" class=\"dataframe\">\n",
       "  <thead>\n",
       "    <tr style=\"text-align: right;\">\n",
       "      <th></th>\n",
       "      <th>transcripts</th>\n",
       "    </tr>\n",
       "  </thead>\n",
       "  <tbody>\n",
       "    <tr>\n",
       "      <th>speaker1 _a.txt</th>\n",
       "      <td>this has been sort of the if youre going to ...</td>\n",
       "    </tr>\n",
       "    <tr>\n",
       "      <th>speaker1_b.txt</th>\n",
       "      <td>netflix no not at all netflix is pretty the...</td>\n",
       "    </tr>\n",
       "    <tr>\n",
       "      <th>speaker1_c.txt</th>\n",
       "      <td>good afternoon and welcome to the netflix qu...</td>\n",
       "    </tr>\n",
       "    <tr>\n",
       "      <th>speaker1_d.txt</th>\n",
       "      <td>we had a big stock surged quickly fizzling w...</td>\n",
       "    </tr>\n",
       "    <tr>\n",
       "      <th>speaker2_a.txt</th>\n",
       "      <td>today oh i think theyre going to crush the nu...</td>\n",
       "    </tr>\n",
       "    <tr>\n",
       "      <th>speaker2_b.txt</th>\n",
       "      <td>really seems like the shares were trading off...</td>\n",
       "    </tr>\n",
       "    <tr>\n",
       "      <th>speaker2_c.txt</th>\n",
       "      <td></td>\n",
       "    </tr>\n",
       "    <tr>\n",
       "      <th>speaker2_d.txt</th>\n",
       "      <td>decline in membership growth to decelerate as...</td>\n",
       "    </tr>\n",
       "  </tbody>\n",
       "</table>\n",
       "</div>"
      ],
      "text/plain": [
       "                                                       transcripts\n",
       "speaker1 _a.txt    this has been sort of the if youre going to ...\n",
       "speaker1_b.txt      netflix no not at all netflix is pretty the...\n",
       "speaker1_c.txt     good afternoon and welcome to the netflix qu...\n",
       "speaker1_d.txt     we had a big stock surged quickly fizzling w...\n",
       "speaker2_a.txt    today oh i think theyre going to crush the nu...\n",
       "speaker2_b.txt    really seems like the shares were trading off...\n",
       "speaker2_c.txt                                                    \n",
       "speaker2_d.txt    decline in membership growth to decelerate as..."
      ]
     },
     "execution_count": 1,
     "metadata": {},
     "output_type": "execute_result"
    }
   ],
   "source": [
    "# Read in the corpus, including punctuation!\n",
    "import pandas as pd\n",
    "\n",
    "data = pd.read_pickle('data_clean.pkl')\n",
    "data"
   ]
  },
  {
   "cell_type": "code",
   "execution_count": 5,
   "metadata": {},
   "outputs": [
    {
     "data": {
      "text/plain": [
       "'  this has been sort of the if youre going to play a virus proof stock play netflix what do you actually expect amount of earnings  so i guess the question is people might be watching more netflix it doesnt mean that theyre paying more for netflix necessarily so how do we square sort of content and use or usage versus catholics actually making more money off of  what about competition because now you have you know disney streaming etc and you could also make the argument that if im bingewatching every show ever and then i get sick a tire king and love is blind im going to go to disney plus instead off there the thought the stomach for all of those services are we going to see that kind of turn  peacock what about whats actually baked into the stock because it feels like netflix is still very owned by investors the fangs have been the groups thats held up we have not seen a leadership shift was priced at right  so i guess my last question then here is that if you wanted to play this trend but as you said the expectations longerterm for netflix are exceedingly optimistic how do you play'"
      ]
     },
     "execution_count": 5,
     "metadata": {},
     "output_type": "execute_result"
    }
   ],
   "source": [
    "\n",
    "speaker1aT = data.transcripts.loc[\"speaker1 _a.txt\"]\n",
    "speaker1aT"
   ]
  },
  {
   "cell_type": "code",
   "execution_count": 6,
   "metadata": {},
   "outputs": [],
   "source": [
    "# this is a simple markov chain function that creates a dictionary\n",
    "# keys should be all the words in the corpus\n",
    "# values should be a list of words that follow the keys\n",
    "\n",
    "\n",
    "\n",
    "from collections import defaultdict\n",
    "\n",
    "def markov_chain(text):\n",
    "    '''The input is a string of text and the output will be a dictionary with each word as\n",
    "       a key and each value as the list of words that come after the key in the text.'''\n",
    "    \n",
    "    # Tokenize the text by word, though including punctuation\n",
    "    words = text.split(' ')\n",
    "    \n",
    "    # Initialize a default dictionary to hold all of the words and next words\n",
    "    m_dict = defaultdict(list)\n",
    "    \n",
    "    # Create a zipped list of all of the word pairs and put them in word: list of next words format\n",
    "    for current_word, next_word in zip(words[0:-1], words[1:]):\n",
    "        m_dict[current_word].append(next_word)\n",
    "\n",
    "    # Convert the default dict back into a dictionary\n",
    "    m_dict = dict(m_dict)\n",
    "    return m_dict"
   ]
  },
  {
   "cell_type": "code",
   "execution_count": 7,
   "metadata": {},
   "outputs": [],
   "source": [
    "# Create the dictionary \n",
    "speaker1aD = markov_chain(speaker1aT)"
   ]
  },
  {
   "cell_type": "code",
   "execution_count": 8,
   "metadata": {},
   "outputs": [],
   "source": [
    "import random\n",
    "\n",
    "# this function has 2 inputs:\n",
    "# number of words you want generated\n",
    "\n",
    "def generate_sentence(chain, count=50):\n",
    "    '''Input a dictionary in the format of key = current word, value = list of next words\n",
    "       along with the number of words you would like to see in your generated sentence.'''\n",
    "\n",
    "    # Capitalize the first word\n",
    "    word1 = random.choice(list(chain.keys()))\n",
    "    sentence = word1.capitalize()\n",
    "\n",
    "    # Generate the second word from the value list. Set the new word as the first word. Repeat.\n",
    "    for i in range(count-1):\n",
    "        word2 = random.choice(chain[word1])\n",
    "        word1 = word2\n",
    "        sentence += ' ' + word2\n",
    "\n",
    "    # End it with a period\n",
    "    sentence += '.'\n",
    "    return(sentence)"
   ]
  },
  {
   "cell_type": "code",
   "execution_count": 9,
   "metadata": {},
   "outputs": [
    {
     "data": {
      "text/plain": [
       "'Catholics actually baked into the argument that if im going to play netflix is blind im bingewatching every show ever and love is people might be watching more for netflix are exceedingly optimistic how do you said the thought the argument that if you wanted to play netflix are exceedingly.'"
      ]
     },
     "execution_count": 9,
     "metadata": {},
     "output_type": "execute_result"
    }
   ],
   "source": [
    "generate_sentence(speaker1aD)"
   ]
  },
  {
   "cell_type": "code",
   "execution_count": null,
   "metadata": {},
   "outputs": [],
   "source": []
  }
 ],
 "metadata": {
  "kernelspec": {
   "display_name": "Python 3",
   "language": "python",
   "name": "python3"
  },
  "language_info": {
   "codemirror_mode": {
    "name": "ipython",
    "version": 3
   },
   "file_extension": ".py",
   "mimetype": "text/x-python",
   "name": "python",
   "nbconvert_exporter": "python",
   "pygments_lexer": "ipython3",
   "version": "3.7.6"
  }
 },
 "nbformat": 4,
 "nbformat_minor": 4
}
